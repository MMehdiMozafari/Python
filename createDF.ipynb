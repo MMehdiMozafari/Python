{
  "nbformat": 4,
  "nbformat_minor": 0,
  "metadata": {
    "colab": {
      "provenance": []
    },
    "kernelspec": {
      "name": "python3",
      "display_name": "Python 3"
    },
    "language_info": {
      "name": "python"
    }
  },
  "cells": [
    {
      "cell_type": "code",
      "execution_count": 1,
      "metadata": {
        "id": "WrOxvtAfD2xK"
      },
      "outputs": [],
      "source": [
        "import pandas as pd"
      ]
    },
    {
      "cell_type": "code",
      "source": [
        "branches = { '01' : ['Urmia',24,2,5,500,160000,'B',8],\n",
        "             '02' : ['Isfahan',36,8,56,830,180000,'A',12],\n",
        "             '03' : ['Ahvaz',29,2,4,500,170000,'B',8],\n",
        "             '04' : ['Tabriz',32,4,18,700,190000,'A',11],\n",
        "             '05' : ['Tehran',135,22,62,2600,1260000,'A+',39],\n",
        "             '06' : ['Rasht',27,7,35,440,145000,'B',7],\n",
        "             '07' : ['Shiraz',43,8,18,1050,350000,'A+',16],\n",
        "             '08' : ['Qom',29,6,59,480,105000,'B',7],\n",
        "             '09' : ['Karaj',42,8,36,590,200000,'A',9],\n",
        "             '10' : ['Kerman',33,6,34,540,160000,'B',8],\n",
        "             '11' : ['Kermanshah',29,5,16,580,166000,'B',9],\n",
        "             '12' : ['Mazandaran',29,1,42,680,172000,'B',10],\n",
        "             '13' : ['Mashhad',48,4,18,1150,330000,'A+',16] }\n",
        "columns = ['Branch','#Personnel','LOP','E_Rate','#Customer','$','Grade','#Seller'] \n",
        "df = pd.DataFrame.from_dict(branches, orient='index',columns=columns)\n",
        "print(df)            \n"
      ],
      "metadata": {
        "colab": {
          "base_uri": "https://localhost:8080/"
        },
        "id": "_69COl1QEvAL",
        "outputId": "4e24ccb4-de21-49e0-f915-480cc9f1f3ca"
      },
      "execution_count": 3,
      "outputs": [
        {
          "output_type": "stream",
          "name": "stdout",
          "text": [
            "        Branch  #Personnel  LOP  E_Rate  #Customer        $ Grade  #Seller\n",
            "01       Urmia          24    2       5        500   160000     B        8\n",
            "02     Isfahan          36    8      56        830   180000     A       12\n",
            "03       Ahvaz          29    2       4        500   170000     B        8\n",
            "04      Tabriz          32    4      18        700   190000     A       11\n",
            "05      Tehran         135   22      62       2600  1260000    A+       39\n",
            "06       Rasht          27    7      35        440   145000     B        7\n",
            "07      Shiraz          43    8      18       1050   350000    A+       16\n",
            "08         Qom          29    6      59        480   105000     B        7\n",
            "09       Karaj          42    8      36        590   200000     A        9\n",
            "10      Kerman          33    6      34        540   160000     B        8\n",
            "11  Kermanshah          29    5      16        580   166000     B        9\n",
            "12  Mazandaran          29    1      42        680   172000     B       10\n",
            "13     Mashhad          48    4      18       1150   330000    A+       16\n"
          ]
        }
      ]
    },
    {
      "cell_type": "code",
      "source": [],
      "metadata": {
        "id": "tLbIxgYKPBli"
      },
      "execution_count": null,
      "outputs": []
    }
  ]
}